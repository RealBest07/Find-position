{
 "cells": [
  {
   "attachments": {},
   "cell_type": "markdown",
   "metadata": {},
   "source": [
    "# Half Top View"
   ]
  },
  {
   "cell_type": "code",
   "execution_count": 2276,
   "metadata": {},
   "outputs": [],
   "source": [
    "import cv2\n",
    "import numpy as np\n",
    "import random\n",
    "import math\n",
    "\n",
    "# Generate a random x and y position\n",
    "\n"
   ]
  },
  {
   "attachments": {},
   "cell_type": "markdown",
   "metadata": {},
   "source": [
    "นำเข้ารูปและสุ่มตำแหน่ง"
   ]
  },
  {
   "cell_type": "code",
   "execution_count": 2277,
   "metadata": {},
   "outputs": [],
   "source": [
    "# img = np.ones((640, 640, 3), np.uint8) * 255\n",
    "img = cv2.imread('protractor.png',cv2.IMREAD_UNCHANGED)\n",
    "ymax,xmax = img.shape[:2]\n",
    "x = random.randint(0, xmax)\n",
    "y = random.randint(0, ymax)"
   ]
  },
  {
   "attachments": {},
   "cell_type": "markdown",
   "metadata": {},
   "source": [
    "วาดจุดตามตำแหน่งที่สุ่มได้"
   ]
  },
  {
   "cell_type": "code",
   "execution_count": 2278,
   "metadata": {},
   "outputs": [
    {
     "data": {
      "text/plain": [
       "array([[[ 44,  40,  43, 255],\n",
       "        [ 40,  39,  36, 255],\n",
       "        [ 39,  39,  39, 255],\n",
       "        ...,\n",
       "        [  4,   4,   4, 255],\n",
       "        [  6,   6,   6, 255],\n",
       "        [ 60,  60,  60, 255]],\n",
       "\n",
       "       [[234, 239, 246, 255],\n",
       "        [243, 246, 244, 255],\n",
       "        [245, 245, 245, 255],\n",
       "        ...,\n",
       "        [  2,   2,   2, 255],\n",
       "        [  4,   4,   4, 255],\n",
       "        [ 65,  65,  65, 255]],\n",
       "\n",
       "       [[235, 245, 255, 255],\n",
       "        [249, 254, 252, 255],\n",
       "        [254, 254, 254, 255],\n",
       "        ...,\n",
       "        [  3,   3,   3, 255],\n",
       "        [  4,   4,   4, 255],\n",
       "        [ 70,  70,  70, 255]],\n",
       "\n",
       "       ...,\n",
       "\n",
       "       [[  1,   4,  21, 255],\n",
       "        [  2,   5,   1, 255],\n",
       "        [  1,   1,   1, 255],\n",
       "        ...,\n",
       "        [254, 254, 254, 255],\n",
       "        [254, 254, 254, 255],\n",
       "        [254, 254, 254, 255]],\n",
       "\n",
       "       [[  3,   1,  21, 255],\n",
       "        [  7,   5,   4, 255],\n",
       "        [  1,   1,   1, 255],\n",
       "        ...,\n",
       "        [254, 254, 254, 255],\n",
       "        [254, 254, 254, 255],\n",
       "        [254, 254, 254, 255]],\n",
       "\n",
       "       [[140, 137, 122, 255],\n",
       "        [141, 139, 120, 255],\n",
       "        [132, 132, 132, 255],\n",
       "        ...,\n",
       "        [254, 254, 254, 255],\n",
       "        [254, 254, 254, 255],\n",
       "        [254, 254, 254, 255]]], dtype=uint8)"
      ]
     },
     "execution_count": 2278,
     "metadata": {},
     "output_type": "execute_result"
    }
   ],
   "source": [
    "# Draw a black dot at the random position\n",
    "\n",
    "cv2.circle(img, (x, y), 8, (0, 0, 255), -1)\n"
   ]
  },
  {
   "cell_type": "code",
   "execution_count": 2279,
   "metadata": {},
   "outputs": [],
   "source": [
    "# import cv2\n",
    "\n",
    "# # Read the image\n",
    "# image = cv2.imread(\"image.jpg\")\n",
    "\n",
    "# # Get the size of the image\n",
    "# size = cv2.Size(image)\n",
    "\n",
    "# # Print the size of the image\n",
    "# print(\"The size of the image is: {}x{}\".format(size.width, size.height))"
   ]
  },
  {
   "attachments": {},
   "cell_type": "markdown",
   "metadata": {},
   "source": [
    "### คำนวณมุม"
   ]
  },
  {
   "cell_type": "code",
   "execution_count": 2280,
   "metadata": {},
   "outputs": [
    {
     "name": "stdout",
     "output_type": "stream",
     "text": [
      "1.2452045620972443\n",
      "71.34496603860794\n"
     ]
    }
   ],
   "source": [
    "# Calculate the angle between the dot and the zero point\n",
    "\n",
    "angle = math.atan2(y, x)\n",
    "print(angle)\n",
    "angle_degrees = angle * 180/math.pi\n",
    "print(angle_degrees)\n"
   ]
  },
  {
   "cell_type": "code",
   "execution_count": 2281,
   "metadata": {},
   "outputs": [],
   "source": [
    "# Draw a line from the zero point to the dot\n",
    "# cv2.line(img, (0, 0), (x, y), (0, 0, 0), 2)\n",
    "\n"
   ]
  },
  {
   "cell_type": "code",
   "execution_count": 2282,
   "metadata": {},
   "outputs": [],
   "source": [
    "# distance = math.sqrt((x)**2 + (y)**2)"
   ]
  },
  {
   "attachments": {},
   "cell_type": "markdown",
   "metadata": {},
   "source": [
    "## Prove"
   ]
  },
  {
   "attachments": {},
   "cell_type": "markdown",
   "metadata": {},
   "source": [
    "พิสูจน์ว่ามุมที่หาได้ตรง"
   ]
  },
  {
   "cell_type": "code",
   "execution_count": 2283,
   "metadata": {},
   "outputs": [
    {
     "name": "stdout",
     "output_type": "stream",
     "text": [
      "79 234\n",
      "158 470\n"
     ]
    },
    {
     "data": {
      "text/plain": [
       "array([[[  0, 255,   0,   0],\n",
       "        [  0, 255,   0,   0],\n",
       "        [ 28,  96,  28, 187],\n",
       "        ...,\n",
       "        [  4,   4,   4, 255],\n",
       "        [  6,   6,   6, 255],\n",
       "        [ 60,  60,  60, 255]],\n",
       "\n",
       "       [[  0, 255,   0,   0],\n",
       "        [  0, 255,   0,   0],\n",
       "        [ 97, 251,  97, 101],\n",
       "        ...,\n",
       "        [  2,   2,   2, 255],\n",
       "        [  4,   4,   4, 255],\n",
       "        [ 65,  65,  65, 255]],\n",
       "\n",
       "       [[  0, 255,   0,   0],\n",
       "        [  0, 255,   0,   0],\n",
       "        [ 31, 255,  31,  32],\n",
       "        ...,\n",
       "        [  3,   3,   3, 255],\n",
       "        [  4,   4,   4, 255],\n",
       "        [ 70,  70,  70, 255]],\n",
       "\n",
       "       ...,\n",
       "\n",
       "       [[  1,   4,  21, 255],\n",
       "        [  2,   5,   1, 255],\n",
       "        [  1,   1,   1, 255],\n",
       "        ...,\n",
       "        [254, 254, 254, 255],\n",
       "        [254, 254, 254, 255],\n",
       "        [254, 254, 254, 255]],\n",
       "\n",
       "       [[  3,   1,  21, 255],\n",
       "        [  7,   5,   4, 255],\n",
       "        [  1,   1,   1, 255],\n",
       "        ...,\n",
       "        [254, 254, 254, 255],\n",
       "        [254, 254, 254, 255],\n",
       "        [254, 254, 254, 255]],\n",
       "\n",
       "       [[140, 137, 122, 255],\n",
       "        [141, 139, 120, 255],\n",
       "        [132, 132, 132, 255],\n",
       "        ...,\n",
       "        [254, 254, 254, 255],\n",
       "        [254, 254, 254, 255],\n",
       "        [254, 254, 254, 255]]], dtype=uint8)"
      ]
     },
     "execution_count": 2283,
     "metadata": {},
     "output_type": "execute_result"
    }
   ],
   "source": [
    "#Draw a line from angle\n",
    "x2 = x + int(250 * np.cos(np.radians(angle_degrees)))\n",
    "y2 = y + int(250 * np.sin(np.radians(angle_degrees)))\n",
    "print(x,y)\n",
    "print(x2,y2)\n",
    "cv2.line(img, (0, 0), (x2,y2 ), (0, 255, 0), 2,lineType=cv2.LINE_AA)"
   ]
  },
  {
   "cell_type": "code",
   "execution_count": 2284,
   "metadata": {},
   "outputs": [],
   "source": [
    "# # Draw a red line from the zero point to (x/2, y)\n",
    "# cv2.line(img, (320, 640), (320, 0), (0, 0, 255), 2)\n"
   ]
  },
  {
   "attachments": {},
   "cell_type": "markdown",
   "metadata": {},
   "source": [
    "## Plot show"
   ]
  },
  {
   "cell_type": "code",
   "execution_count": 2285,
   "metadata": {},
   "outputs": [],
   "source": [
    "# Display the image\n",
    "# cv2.imshow(\"Image\", img)\n",
    "\n",
    "# Display the angle in the image\n",
    "angle_text = f\"Angle: {angle_degrees:.2f} degree\"\n",
    "cv2.putText(img, angle_text, (5, 20), cv2.FONT_HERSHEY_SIMPLEX, 0.8, (0, 0, 255), 2)\n",
    "cv2.imshow(\"Image with angle\", img)\n",
    "\n",
    "# Wait for the user to press a key\n",
    "cv2.waitKey(0)\n",
    "\n",
    "# Destroy all windows\n",
    "cv2.destroyAllWindows()\n"
   ]
  },
  {
   "cell_type": "code",
   "execution_count": null,
   "metadata": {},
   "outputs": [],
   "source": [
    "angle_degrees = angle * 180/math.pi\n",
    "angle_text = f\"Angle: {angle_degrees:.2f} degrees\"\n"
   ]
  }
 ],
 "metadata": {
  "kernelspec": {
   "display_name": "Python 3",
   "language": "python",
   "name": "python3"
  },
  "language_info": {
   "codemirror_mode": {
    "name": "ipython",
    "version": 3
   },
   "file_extension": ".py",
   "mimetype": "text/x-python",
   "name": "python",
   "nbconvert_exporter": "python",
   "pygments_lexer": "ipython3",
   "version": "3.9.6 (tags/v3.9.6:db3ff76, Jun 28 2021, 15:26:21) [MSC v.1929 64 bit (AMD64)]"
  },
  "orig_nbformat": 4,
  "vscode": {
   "interpreter": {
    "hash": "11938c6bc6919ae2720b4d5011047913343b08a43b18698fd82dedb0d4417594"
   }
  }
 },
 "nbformat": 4,
 "nbformat_minor": 2
}
