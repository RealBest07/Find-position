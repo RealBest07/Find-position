{
 "cells": [
  {
   "attachments": {},
   "cell_type": "markdown",
   "metadata": {},
   "source": [
    "# Full Top View"
   ]
  },
  {
   "cell_type": "code",
   "execution_count": 132,
   "metadata": {},
   "outputs": [],
   "source": [
    "import cv2\n",
    "import numpy as np\n",
    "import random\n",
    "import math\n",
    "from IPython.display import clear_output\n",
    "# Generate a random x and y position\n",
    "\n"
   ]
  },
  {
   "attachments": {},
   "cell_type": "markdown",
   "metadata": {},
   "source": [
    "นำเข้ารูปและสุ่มตำแหน่ง"
   ]
  },
  {
   "cell_type": "code",
   "execution_count": 133,
   "metadata": {},
   "outputs": [
    {
     "name": "stdout",
     "output_type": "stream",
     "text": [
      "520 25\n",
      "1808 904\n"
     ]
    }
   ],
   "source": [
    "# img = np.ones((640, 640, 3), np.uint8) * 255\n",
    "img = cv2.imread('Protractor_Rapporteur_Degree_V1.jpg',cv2.IMREAD_UNCHANGED)\n",
    "ymax,xmax = img.shape[:2]\n",
    "                              \n",
    "x = random.randint(0, xmax)\n",
    "y = random.randint(0, ymax)\n",
    "#zero point    \n",
    "xzero = int(xmax/2)\n",
    "yzero = int(ymax)\n",
    "print(x,y)\n",
    "print(xmax,ymax)"
   ]
  },
  {
   "cell_type": "code",
   "execution_count": 134,
   "metadata": {},
   "outputs": [],
   "source": [
    "#midle redline\n",
    "cv2.line(img, (xzero, 0), (xzero,yzero ), (0, 0, 255), 2,lineType=cv2.LINE_AA)\n",
    "clear_output()"
   ]
  },
  {
   "attachments": {},
   "cell_type": "markdown",
   "metadata": {},
   "source": [
    "วาดจุดตามตำแหน่งที่สุ่มได้"
   ]
  },
  {
   "cell_type": "code",
   "execution_count": 135,
   "metadata": {},
   "outputs": [
    {
     "data": {
      "text/plain": [
       "array([[[255, 255, 255],\n",
       "        [255, 255, 255],\n",
       "        [255, 255, 255],\n",
       "        ...,\n",
       "        [255, 255, 255],\n",
       "        [255, 255, 255],\n",
       "        [255, 255, 255]],\n",
       "\n",
       "       [[255, 255, 255],\n",
       "        [255, 255, 255],\n",
       "        [255, 255, 255],\n",
       "        ...,\n",
       "        [255, 255, 255],\n",
       "        [255, 255, 255],\n",
       "        [255, 255, 255]],\n",
       "\n",
       "       [[255, 255, 255],\n",
       "        [255, 255, 255],\n",
       "        [255, 255, 255],\n",
       "        ...,\n",
       "        [255, 255, 255],\n",
       "        [255, 255, 255],\n",
       "        [255, 255, 255]],\n",
       "\n",
       "       ...,\n",
       "\n",
       "       [[189, 189, 189],\n",
       "        [  0,   0,   0],\n",
       "        [  3,   3,   3],\n",
       "        ...,\n",
       "        [  1,   1,   1],\n",
       "        [  0,   0,   0],\n",
       "        [161, 161, 161]],\n",
       "\n",
       "       [[190, 190, 190],\n",
       "        [  1,   1,   1],\n",
       "        [  0,   0,   0],\n",
       "        ...,\n",
       "        [  0,   0,   0],\n",
       "        [  1,   1,   1],\n",
       "        [160, 160, 160]],\n",
       "\n",
       "       [[185, 185, 185],\n",
       "        [  0,   0,   0],\n",
       "        [  4,   4,   4],\n",
       "        ...,\n",
       "        [  0,   0,   0],\n",
       "        [  1,   1,   1],\n",
       "        [158, 158, 158]]], dtype=uint8)"
      ]
     },
     "execution_count": 135,
     "metadata": {},
     "output_type": "execute_result"
    }
   ],
   "source": [
    "# Draw a black dot at the random position\n",
    "\n",
    "cv2.circle(img, (x, y), 4, (0, 0, 255), -1)\n"
   ]
  },
  {
   "attachments": {},
   "cell_type": "markdown",
   "metadata": {},
   "source": [
    "### คำนวณมุม"
   ]
  },
  {
   "cell_type": "code",
   "execution_count": 136,
   "metadata": {},
   "outputs": [
    {
     "name": "stdout",
     "output_type": "stream",
     "text": [
      "66.40140438288215\n"
     ]
    }
   ],
   "source": [
    "# Calculate the angle between the dot and the zero point\n",
    "xcal = x\n",
    "ycal = y\n",
    "dx = xmax/2 - xcal\n",
    "dy = ymax - ycal\n",
    "angle = math.atan2(dy,dx)\n",
    "# angle = math.atan2(y, x)\n",
    "    # print(angle)\n",
    "angle_degrees = angle * 180/math.pi\n",
    "print(angle_degrees)"
   ]
  },
  {
   "attachments": {},
   "cell_type": "markdown",
   "metadata": {},
   "source": [
    "## Plot show"
   ]
  },
  {
   "cell_type": "code",
   "execution_count": 137,
   "metadata": {},
   "outputs": [],
   "source": [
    "# Display the image\n",
    "# cv2.imshow(\"Image\", img)\n",
    "\n",
    "# Display the angle in the image\n",
    "angle_text = f\"Angle: {angle_degrees:.2f} degree\"\n",
    "cv2.putText(img, angle_text, (5, 20), cv2.FONT_HERSHEY_SIMPLEX, 0.8, (0, 0, 255), 2)\n",
    "cv2.imshow(\"Image with angle\", img)\n",
    "\n",
    "# Wait for the user to press a key\n",
    "cv2.waitKey(0)\n",
    "\n",
    "# Destroy all windows\n",
    "cv2.destroyAllWindows()\n"
   ]
  }
 ],
 "metadata": {
  "kernelspec": {
   "display_name": "Python 3",
   "language": "python",
   "name": "python3"
  },
  "language_info": {
   "codemirror_mode": {
    "name": "ipython",
    "version": 3
   },
   "file_extension": ".py",
   "mimetype": "text/x-python",
   "name": "python",
   "nbconvert_exporter": "python",
   "pygments_lexer": "ipython3",
   "version": "3.9.6"
  },
  "orig_nbformat": 4,
  "vscode": {
   "interpreter": {
    "hash": "11938c6bc6919ae2720b4d5011047913343b08a43b18698fd82dedb0d4417594"
   }
  }
 },
 "nbformat": 4,
 "nbformat_minor": 2
}
