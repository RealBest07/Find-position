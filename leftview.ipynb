{
 "cells": [
  {
   "attachments": {},
   "cell_type": "markdown",
   "metadata": {},
   "source": [
    "# Left View"
   ]
  },
  {
   "cell_type": "code",
   "execution_count": 37,
   "metadata": {},
   "outputs": [],
   "source": [
    "import cv2\n",
    "import numpy as np\n",
    "import random\n",
    "import math\n",
    "from IPython.display import clear_output\n",
    "clear_output()\n",
    "# Generate a random x and y position\n",
    "\n"
   ]
  },
  {
   "attachments": {},
   "cell_type": "markdown",
   "metadata": {},
   "source": [
    "นำเข้ารูปและสุ่มตำแหน่ง"
   ]
  },
  {
   "cell_type": "code",
   "execution_count": 38,
   "metadata": {},
   "outputs": [
    {
     "name": "stdout",
     "output_type": "stream",
     "text": [
      "18 215\n",
      "511 511\n"
     ]
    }
   ],
   "source": [
    "# img = np.ones((640, 640, 3), np.uint8) * 255\n",
    "img = cv2.imread('protractor1.png',cv2.IMREAD_UNCHANGED)\n",
    "ymax,xmax = img.shape[:2]\n",
    "\n",
    "x = random.randint(0, xmax)\n",
    "y = random.randint(0, ymax)\n",
    "#zero point    \n",
    "xzero = int(xmax)\n",
    "yzero = 0\n",
    "print(x,y)\n",
    "print(xmax,ymax)"
   ]
  },
  {
   "attachments": {},
   "cell_type": "markdown",
   "metadata": {},
   "source": [
    "วาดจุดตามตำแหน่งที่สุ่มได้"
   ]
  },
  {
   "cell_type": "code",
   "execution_count": 39,
   "metadata": {},
   "outputs": [
    {
     "data": {
      "text/plain": [
       "array([[[ 60,  60,  60, 255],\n",
       "        [  6,   6,   6, 255],\n",
       "        [  4,   4,   4, 255],\n",
       "        ...,\n",
       "        [ 39,  39,  39, 255],\n",
       "        [ 40,  39,  36, 255],\n",
       "        [ 44,  40,  43, 255]],\n",
       "\n",
       "       [[ 65,  65,  65, 255],\n",
       "        [  4,   4,   4, 255],\n",
       "        [  2,   2,   2, 255],\n",
       "        ...,\n",
       "        [245, 245, 245, 255],\n",
       "        [243, 246, 244, 255],\n",
       "        [234, 239, 246, 255]],\n",
       "\n",
       "       [[ 70,  70,  70, 255],\n",
       "        [  4,   4,   4, 255],\n",
       "        [  3,   3,   3, 255],\n",
       "        ...,\n",
       "        [254, 254, 254, 255],\n",
       "        [249, 254, 252, 255],\n",
       "        [235, 245, 255, 255]],\n",
       "\n",
       "       ...,\n",
       "\n",
       "       [[254, 254, 254, 255],\n",
       "        [254, 254, 254, 255],\n",
       "        [254, 254, 254, 255],\n",
       "        ...,\n",
       "        [ 75,  75,  75, 255],\n",
       "        [ 73,  78,  71, 255],\n",
       "        [ 64,  71,  81, 255]],\n",
       "\n",
       "       [[254, 254, 254, 255],\n",
       "        [254, 254, 254, 255],\n",
       "        [254, 254, 254, 255],\n",
       "        ...,\n",
       "        [  1,   1,   1, 255],\n",
       "        [  2,   5,   1, 255],\n",
       "        [  1,   4,  21, 255]],\n",
       "\n",
       "       [[254, 254, 254, 255],\n",
       "        [254, 254, 254, 255],\n",
       "        [254, 254, 254, 255],\n",
       "        ...,\n",
       "        [  1,   1,   1, 255],\n",
       "        [  7,   5,   4, 255],\n",
       "        [  3,   1,  21, 255]]], dtype=uint8)"
      ]
     },
     "execution_count": 39,
     "metadata": {},
     "output_type": "execute_result"
    }
   ],
   "source": [
    "# Draw a black dot at the random position\n",
    "\n",
    "cv2.circle(img, (x, y), 4, (0, 0, 255), -1)\n"
   ]
  },
  {
   "cell_type": "code",
   "execution_count": 40,
   "metadata": {},
   "outputs": [],
   "source": [
    "# import cv2\n",
    "\n",
    "# # Read the image\n",
    "# image = cv2.imread(\"image.jpg\")\n",
    "\n",
    "# # Get the size of the image\n",
    "# size = cv2.Size(image)\n",
    "\n",
    "# # Print the size of the image\n",
    "# print(\"The size of the image is: {}x{}\".format(size.width, size.height))"
   ]
  },
  {
   "attachments": {},
   "cell_type": "markdown",
   "metadata": {},
   "source": [
    "### คำนวณมุม"
   ]
  },
  {
   "cell_type": "code",
   "execution_count": 41,
   "metadata": {},
   "outputs": [
    {
     "name": "stdout",
     "output_type": "stream",
     "text": [
      "23.562279541949707\n"
     ]
    }
   ],
   "source": [
    "# Calculate the angle between the dot and the zero point\n",
    "xcal = x\n",
    "ycal = y\n",
    "dx = xmax - xcal\n",
    "dy = ycal\n",
    "angle = math.atan2(dy,dx)\n",
    "# angle = math.atan2(y, x)\n",
    "    # print(angle)\n",
    "angle_degrees = angle * 180/math.pi\n",
    "print(angle_degrees)"
   ]
  },
  {
   "attachments": {},
   "cell_type": "markdown",
   "metadata": {},
   "source": [
    "## Plot show"
   ]
  },
  {
   "cell_type": "code",
   "execution_count": 42,
   "metadata": {},
   "outputs": [],
   "source": [
    "# Display the image\n",
    "# cv2.imshow(\"Image\", img)\n",
    "\n",
    "# Display the angle in the image\n",
    "angle_text = f\"Angle: {angle_degrees:.2f} degree\"\n",
    "cv2.putText(img, angle_text, (5, 20), cv2.FONT_HERSHEY_SIMPLEX, 0.8, (0, 0, 255), 2)\n",
    "cv2.imshow(\"Image with angle\", img)\n",
    "\n",
    "# Wait for the user to press a key\n",
    "cv2.waitKey(0)\n",
    "\n",
    "# Destroy all windows\n",
    "cv2.destroyAllWindows()\n"
   ]
  }
 ],
 "metadata": {
  "kernelspec": {
   "display_name": "Python 3",
   "language": "python",
   "name": "python3"
  },
  "language_info": {
   "codemirror_mode": {
    "name": "ipython",
    "version": 3
   },
   "file_extension": ".py",
   "mimetype": "text/x-python",
   "name": "python",
   "nbconvert_exporter": "python",
   "pygments_lexer": "ipython3",
   "version": "3.9.6"
  },
  "orig_nbformat": 4,
  "vscode": {
   "interpreter": {
    "hash": "11938c6bc6919ae2720b4d5011047913343b08a43b18698fd82dedb0d4417594"
   }
  }
 },
 "nbformat": 4,
 "nbformat_minor": 2
}
